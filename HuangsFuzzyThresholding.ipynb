{
  "nbformat": 4,
  "nbformat_minor": 0,
  "metadata": {
    "colab": {
      "provenance": []
    },
    "kernelspec": {
      "name": "python3",
      "display_name": "Python 3"
    },
    "language_info": {
      "name": "python"
    }
  },
  "cells": [
    {
      "cell_type": "code",
      "execution_count": null,
      "metadata": {
        "id": "N0RtCA8BHUCb"
      },
      "outputs": [],
      "source": [
        "import numpy\n",
        "import math\n",
        "\n",
        "def Huang(data):\n",
        "    threshold=-1;\n",
        "    first_bin=  0\n",
        "    for ih in range(254):\n",
        "        if data[ih] != 0:\n",
        "            first_bin = ih\n",
        "            break\n",
        "    last_bin=254;\n",
        "    for ih in range(254,-1,-1):\n",
        "        if data[ih] != 0:\n",
        "            last_bin = ih\n",
        "            break\n",
        "    term = 1.0 / (last_bin - first_bin)\n",
        "    mu_0 = numpy.zeros(shape=(254,1))\n",
        "    num_pix = 0.0\n",
        "    sum_pix = 0.0\n",
        "    for ih in range(first_bin,254):\n",
        "        sum_pix = sum_pix + (ih * data[ih])\n",
        "        num_pix = num_pix + data[ih]\n",
        "        mu_0[ih] = sum_pix / num_pix\n",
        "    min_ent = float(\"inf\")\n",
        "    for it in range(254):\n",
        "        ent = 0.0\n",
        "        for ih in range(it):\n",
        "            mu_x = 1.0 / ( 1.0 + term * math.fabs( ih - mu_0[it]))\n",
        "            if ( not ((mu_x  < 1e-06 ) or (mu_x > 0.999999))):\n",
        "                ent = ent + data[ih] * (-mu_x * math.log(mu_x) - (1.0 - mu_x) * math.log(1.0 - mu_x) )\n",
        "        if (ent < min_ent):\n",
        "            min_ent = ent\n",
        "            threshold = it\n",
        "    return threshold"
      ]
    }
  ]
}