{
  "nbformat": 4,
  "nbformat_minor": 0,
  "metadata": {
    "colab": {
      "provenance": []
    },
    "kernelspec": {
      "name": "python3",
      "display_name": "Python 3"
    },
    "language_info": {
      "name": "python"
    }
  },
  "cells": [
    {
      "cell_type": "code",
      "execution_count": null,
      "metadata": {
        "id": "eNrwe7KTHdRr"
      },
      "outputs": [],
      "source": [
        "import cv2\n",
        "import numpy as np\n",
        "import glob\n",
        "import time\n",
        "input = 'MIAS6'\n",
        "i = 0\n",
        "start = time.time()\n",
        "for img in glob.glob(input + '/1/*.png'):\n",
        "    image = cv2.imread(img,0)\n",
        "    kernel = np.ones((120,120),np.uint8)\n",
        "    erosion = cv2.erode(image,kernel,iterations = 1)\n",
        "    kernel = np.ones((120,120),np.uint8)\n",
        "    dilation = cv2.dilate(erosion, kernel, iterations = 1)\n",
        "    merged = cv2.bitwise_and(image, image , mask=dilation)\n",
        "    i += 1\n",
        "end = time.time()\n",
        "print(end-start)"
      ]
    }
  ]
}