{
  "nbformat": 4,
  "nbformat_minor": 0,
  "metadata": {
    "colab": {
      "provenance": []
    },
    "kernelspec": {
      "name": "python3",
      "display_name": "Python 3"
    },
    "language_info": {
      "name": "python"
    }
  },
  "cells": [
    {
      "cell_type": "code",
      "execution_count": null,
      "metadata": {
        "id": "gGjj6cl1IXl7"
      },
      "outputs": [],
      "source": [
        "import numpy as np\n",
        "import pandas as pd\n",
        "from skimage.draw import ellipse_perimeter, circle_perimeter\n",
        "\n",
        "def extract_circular_points(regions):\n",
        "    circular_points = []\n",
        "\n",
        "    for region in regions:\n",
        "        # Check circularity of the region\n",
        "        circularity = region.perimeter ** 2 / (4 * np.pi * region.area)\n",
        "\n",
        "        # Define a circularity threshold (adjust as needed)\n",
        "        circularity_threshold = 0.8\n",
        "\n",
        "        if circularity > circularity_threshold:\n",
        "            # Get the centroid coordinates\n",
        "            centroid_row, centroid_col = region.centroid\n",
        "\n",
        "            # Generate more results for the circular point\n",
        "            additional_results = generate_additional_results(centroid_row, centroid_col)\n",
        "\n",
        "            # Append the circular point and additional results to the list\n",
        "            circular_points.append({\n",
        "                'centroid_row': centroid_row,\n",
        "                'centroid_col': centroid_col,\n",
        "                'additional_results': additional_results\n",
        "            })\n",
        "\n",
        "    return circular_points\n",
        "\n",
        "def generate_additional_results(row, col):\n",
        "    # Generate additional results for the circular point, e.g., extract pixel values or statistics\n",
        "    additional_results = {}\n",
        "\n",
        "    # Example: Get the pixel values along the circular perimeter\n",
        "    min_radius = 1\n",
        "    max_radius = 15\n",
        "\n",
        "    # Generate circular and elliptical perimeters\n",
        "    perimeters = []\n",
        "    for radius in range(min_radius, max_radius+1):\n",
        "        circle_perimeter_row, circle_perimeter_col = circle_perimeter(int(row), int(col), radius=radius)\n",
        "        ellipse_perimeter_row, ellipse_perimeter_col = ellipse_perimeter(int(row), int(col), radius, int(radius*1.5))\n",
        "        perimeters.append((circle_perimeter_row, circle_perimeter_col))\n",
        "        perimeters.append((ellipse_perimeter_row, ellipse_perimeter_col))\n",
        "\n",
        "    # Extract pixel values for each perimeter\n",
        "    pixel_values = []\n",
        "    for perimeter_row, perimeter_col in perimeters:\n",
        "        pixel_values.append((perimeter_row, perimeter_col))\n",
        "\n",
        "    additional_results['perimeter_pixel_values'] = pixel_values\n",
        "\n",
        "    return additional_results"
      ]
    }
  ]
}